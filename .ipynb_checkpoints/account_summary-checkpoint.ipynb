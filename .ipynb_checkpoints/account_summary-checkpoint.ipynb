{
 "cells": [
  {
   "cell_type": "code",
   "execution_count": 1,
   "metadata": {},
   "outputs": [],
   "source": [
    "import os\n",
    "import plaid\n",
    "import requests\n",
    "import datetime\n",
    "import json\n",
    "import pandas as pd\n",
    "%matplotlib inline"
   ]
  },
  {
   "cell_type": "code",
   "execution_count": 24,
   "metadata": {},
   "outputs": [],
   "source": [
    "def pretty_print_response(response):\n",
    "  print(json.dumps(response, indent=4, sort_keys=True))\n",
    "\n",
    "def find_category(c):\n",
    "    catergory=[i[0] for i in list(c)]\n",
    "    return list(map(lambda t: t,catergory))\n",
    "\n",
    "def create_dataframe(column_names,source_data):\n",
    "     transformed_data= [{k: v for k, v in x.items() if k in column_names} for x in source_data]\n",
    "     return pd.DataFrame(transformed_data).apply(lambda y: find_category(y[0:]) if y.name in ['category'] else y)\n"
   ]
  },
  {
   "cell_type": "code",
   "execution_count": 3,
   "metadata": {},
   "outputs": [],
   "source": [
    "PLAID_CLIENT_ID = os.getenv('PLAID_CLIENT_ID')\n",
    "PLAID_SECRET = os.getenv('PLAID_SECRET')\n",
    "PLAID_PUBLIC_KEY = os.getenv('PLAID_PUBLIC_KEY')\n",
    "PLAID_ENV = os.getenv('PLAID_ENV', 'sandbox')\n",
    "PLAID_PRODUCTS = os.getenv('PLAID_PRODUCTS', 'transactions')\n"
   ]
  },
  {
   "cell_type": "markdown",
   "metadata": {},
   "source": [
    "# Plaid Access Token\n",
    "\n",
    "In this section, you will use the plaid-python api to generate the correct authentication tokens to access data in the free developer Sandbox. This mimics how you might connect to your own account or a customer account, but due to privacy issues, this homework will only require connecting to and analyzing the fake data from the developer sandbox that Plaid provides. \n",
    "\n",
    "Complete the following steps to generate an access token:\n",
    "1. Create a client to connect to paid\n",
    "2. Use the client to generate a public token and request the following items: \n",
    "['transactions', 'income', 'assets']\n",
    "3. Exchange the public token for an access token\n",
    "4. Test the access token by requesting and printing the available test accounts"
   ]
  },
  {
   "cell_type": "markdown",
   "metadata": {},
   "source": [
    "### 1. Create a client to connect to plaid"
   ]
  },
  {
   "cell_type": "code",
   "execution_count": 4,
   "metadata": {},
   "outputs": [],
   "source": [
    "INSTITUTION_ID = \"ins_109508\""
   ]
  },
  {
   "cell_type": "code",
   "execution_count": 5,
   "metadata": {},
   "outputs": [],
   "source": [
    "# YOUR CODE HERE\n",
    "client = plaid.Client(client_id=PLAID_CLIENT_ID, secret=PLAID_SECRET, public_key=PLAID_PUBLIC_KEY, environment=PLAID_ENV)"
   ]
  },
  {
   "cell_type": "markdown",
   "metadata": {},
   "source": [
    "### 2. Generate a public token"
   ]
  },
  {
   "cell_type": "code",
   "execution_count": 6,
   "metadata": {},
   "outputs": [],
   "source": [
    "# YOUR CODE HERE\n",
    "create_tkn_response = client.Sandbox.public_token.create(INSTITUTION_ID, ['transactions','income','assets'])"
   ]
  },
  {
   "cell_type": "markdown",
   "metadata": {},
   "source": [
    "### 3. Exchange the public token for an access token"
   ]
  },
  {
   "cell_type": "code",
   "execution_count": 7,
   "metadata": {},
   "outputs": [],
   "source": [
    "# YOUR CODE HERE\n",
    "exchange_response = client.Item.public_token.exchange(create_tkn_response['public_token'])\n",
    "access_token = exchange_response['access_token']"
   ]
  },
  {
   "cell_type": "markdown",
   "metadata": {},
   "source": [
    "### 4. Fetch Accounts"
   ]
  },
  {
   "cell_type": "code",
   "execution_count": 8,
   "metadata": {},
   "outputs": [
    {
     "name": "stdout",
     "output_type": "stream",
     "text": [
      "{\n",
      "    \"accounts\": [\n",
      "        {\n",
      "            \"account_id\": \"eBMKXMjyvghjLB3AdL1WIQNDqWwDy3sL4lPjv\",\n",
      "            \"balances\": {\n",
      "                \"available\": 100,\n",
      "                \"current\": 110,\n",
      "                \"iso_currency_code\": \"USD\",\n",
      "                \"limit\": null,\n",
      "                \"unofficial_currency_code\": null\n",
      "            },\n",
      "            \"mask\": \"0000\",\n",
      "            \"name\": \"Plaid Checking\",\n",
      "            \"official_name\": \"Plaid Gold Standard 0% Interest Checking\",\n",
      "            \"subtype\": \"checking\",\n",
      "            \"type\": \"depository\"\n",
      "        },\n",
      "        {\n",
      "            \"account_id\": \"QLp8Mp17JrT5zLQJAzNWcREdDJedqocp5WB86\",\n",
      "            \"balances\": {\n",
      "                \"available\": 200,\n",
      "                \"current\": 210,\n",
      "                \"iso_currency_code\": \"USD\",\n",
      "                \"limit\": null,\n",
      "                \"unofficial_currency_code\": null\n",
      "            },\n",
      "            \"mask\": \"1111\",\n",
      "            \"name\": \"Plaid Saving\",\n",
      "            \"official_name\": \"Plaid Silver Standard 0.1% Interest Saving\",\n",
      "            \"subtype\": \"savings\",\n",
      "            \"type\": \"depository\"\n",
      "        },\n",
      "        {\n",
      "            \"account_id\": \"ZnE9MEKpqPTKLdyXAL3bFqlbpWjb4LTg6DWKq\",\n",
      "            \"balances\": {\n",
      "                \"available\": null,\n",
      "                \"current\": 1000,\n",
      "                \"iso_currency_code\": \"USD\",\n",
      "                \"limit\": null,\n",
      "                \"unofficial_currency_code\": null\n",
      "            },\n",
      "            \"mask\": \"2222\",\n",
      "            \"name\": \"Plaid CD\",\n",
      "            \"official_name\": \"Plaid Bronze Standard 0.2% Interest CD\",\n",
      "            \"subtype\": \"cd\",\n",
      "            \"type\": \"depository\"\n",
      "        },\n",
      "        {\n",
      "            \"account_id\": \"MQgL4geR7yc51AJZN1PLcnbN8mWNPxc9J8kMg\",\n",
      "            \"balances\": {\n",
      "                \"available\": null,\n",
      "                \"current\": 410,\n",
      "                \"iso_currency_code\": \"USD\",\n",
      "                \"limit\": 2000,\n",
      "                \"unofficial_currency_code\": null\n",
      "            },\n",
      "            \"mask\": \"3333\",\n",
      "            \"name\": \"Plaid Credit Card\",\n",
      "            \"official_name\": \"Plaid Diamond 12.5% APR Interest Credit Card\",\n",
      "            \"subtype\": \"credit card\",\n",
      "            \"type\": \"credit\"\n",
      "        },\n",
      "        {\n",
      "            \"account_id\": \"1g6vV6jLlzIq1RgvX1BDFKlBgaoBbjh58GVJ8\",\n",
      "            \"balances\": {\n",
      "                \"available\": 43200,\n",
      "                \"current\": 43200,\n",
      "                \"iso_currency_code\": \"USD\",\n",
      "                \"limit\": null,\n",
      "                \"unofficial_currency_code\": null\n",
      "            },\n",
      "            \"mask\": \"4444\",\n",
      "            \"name\": \"Plaid Money Market\",\n",
      "            \"official_name\": \"Plaid Platinum Standard 1.85% Interest Money Market\",\n",
      "            \"subtype\": \"money market\",\n",
      "            \"type\": \"depository\"\n",
      "        },\n",
      "        {\n",
      "            \"account_id\": \"Lep1ap7QVmf5VkgwMVP1cv3PgEoPw8uPXyBrJ\",\n",
      "            \"balances\": {\n",
      "                \"available\": null,\n",
      "                \"current\": 320.76,\n",
      "                \"iso_currency_code\": \"USD\",\n",
      "                \"limit\": null,\n",
      "                \"unofficial_currency_code\": null\n",
      "            },\n",
      "            \"mask\": \"5555\",\n",
      "            \"name\": \"Plaid IRA\",\n",
      "            \"official_name\": null,\n",
      "            \"subtype\": \"ira\",\n",
      "            \"type\": \"investment\"\n",
      "        },\n",
      "        {\n",
      "            \"account_id\": \"pQMjDM8l5qczlKJ43lQxu7vmLXwmPZiLZNe11\",\n",
      "            \"balances\": {\n",
      "                \"available\": null,\n",
      "                \"current\": 23631.9805,\n",
      "                \"iso_currency_code\": \"USD\",\n",
      "                \"limit\": null,\n",
      "                \"unofficial_currency_code\": null\n",
      "            },\n",
      "            \"mask\": \"6666\",\n",
      "            \"name\": \"Plaid 401k\",\n",
      "            \"official_name\": null,\n",
      "            \"subtype\": \"401k\",\n",
      "            \"type\": \"investment\"\n",
      "        },\n",
      "        {\n",
      "            \"account_id\": \"oe1PD1gW5lfrxq54BxV3SDv1Z9Q1RdcRdnAla\",\n",
      "            \"balances\": {\n",
      "                \"available\": null,\n",
      "                \"current\": 65262,\n",
      "                \"iso_currency_code\": \"USD\",\n",
      "                \"limit\": null,\n",
      "                \"unofficial_currency_code\": null\n",
      "            },\n",
      "            \"mask\": \"7777\",\n",
      "            \"name\": \"Plaid Student Loan\",\n",
      "            \"official_name\": null,\n",
      "            \"subtype\": \"student\",\n",
      "            \"type\": \"loan\"\n",
      "        }\n",
      "    ],\n",
      "    \"item\": {\n",
      "        \"available_products\": [\n",
      "            \"auth\",\n",
      "            \"balance\",\n",
      "            \"credit_details\",\n",
      "            \"identity\",\n",
      "            \"investments\",\n",
      "            \"liabilities\"\n",
      "        ],\n",
      "        \"billed_products\": [\n",
      "            \"assets\",\n",
      "            \"income\",\n",
      "            \"transactions\"\n",
      "        ],\n",
      "        \"error\": null,\n",
      "        \"institution_id\": \"ins_109508\",\n",
      "        \"item_id\": \"rM7eD7lKJrt3Wz9XdWlat4871PqXljtlRXKN5\",\n",
      "        \"webhook\": \"\"\n",
      "    },\n",
      "    \"request_id\": \"3OTJ28DrHZAqcfK\"\n",
      "}\n"
     ]
    }
   ],
   "source": [
    "pretty_print_response( client.Accounts.get(access_token))"
   ]
  },
  {
   "cell_type": "markdown",
   "metadata": {},
   "source": [
    "---"
   ]
  },
  {
   "cell_type": "markdown",
   "metadata": {},
   "source": [
    "# Account Transactions with Plaid\n",
    "\n",
    "In this section, you will use the Plaid Python SDK to connect to the Developer Sandbox account and grab a list of transactions. You will need to complete the following steps:\n",
    "\n",
    "\n",
    "1. Use the access token to fetch the transactions for the last 90 days\n",
    "2. Print the categories for each transaction type\n",
    "3. Create a new DataFrame using the following fields from the JSON transaction data: `date, name, amount, category`. (For categories with more than one label, just use the first category label in the list)\n",
    "4. Convert the data types to the appropriate types (i.e. datetimeindex for the date and float for the amount)"
   ]
  },
  {
   "cell_type": "markdown",
   "metadata": {},
   "source": [
    "### 1. Fetch the Transactions for the last 90 days"
   ]
  },
  {
   "cell_type": "code",
   "execution_count": 9,
   "metadata": {},
   "outputs": [
    {
     "name": "stdout",
     "output_type": "stream",
     "text": [
      "[\n",
      "    {\n",
      "        \"account_id\": \"MQgL4geR7yc51AJZN1PLcnbN8mWNPxc9J8kMg\",\n",
      "        \"account_owner\": null,\n",
      "        \"amount\": 500,\n",
      "        \"category\": [\n",
      "            \"Food and Drink\",\n",
      "            \"Restaurants\"\n",
      "        ],\n",
      "        \"category_id\": \"13005000\",\n",
      "        \"date\": \"2019-09-28\",\n",
      "        \"iso_currency_code\": \"USD\",\n",
      "        \"location\": {\n",
      "            \"address\": null,\n",
      "            \"city\": null,\n",
      "            \"country\": null,\n",
      "            \"lat\": null,\n",
      "            \"lon\": null,\n",
      "            \"postal_code\": null,\n",
      "            \"region\": null,\n",
      "            \"store_number\": null\n",
      "        },\n",
      "        \"name\": \"Tectra Inc\",\n",
      "        \"payment_meta\": {\n",
      "            \"by_order_of\": null,\n",
      "            \"payee\": null,\n",
      "            \"payer\": null,\n",
      "            \"payment_method\": null,\n",
      "            \"payment_processor\": null,\n",
      "            \"ppd_id\": null,\n",
      "            \"reason\": null,\n",
      "            \"reference_number\": null\n",
      "        },\n",
      "        \"pending\": false,\n",
      "        \"pending_transaction_id\": null,\n",
      "        \"transaction_id\": \"1g6vV6jLlzIq1RgvX1BDFKl538dW4xU5rAjKx\",\n",
      "        \"transaction_type\": \"place\",\n",
      "        \"unofficial_currency_code\": null\n",
      "    }\n",
      "]\n"
     ]
    }
   ],
   "source": [
    "# Get transactions for institution for specific date range\n",
    "start_date = '{:%Y-%m-%d}'.format(datetime.datetime.now() + datetime.timedelta(-90))\n",
    "end_date = '{:%Y-%m-%d}'.format(datetime.datetime.now())\n",
    "\n",
    "transaction_response = client.Transactions.get(access_token,start_date,end_date)\n",
    "pretty_print_response(transaction_response['transactions'][:1])"
   ]
  },
  {
   "cell_type": "markdown",
   "metadata": {},
   "source": [
    "### 2. Print the categories for each transaction"
   ]
  },
  {
   "cell_type": "code",
   "execution_count": 10,
   "metadata": {},
   "outputs": [
    {
     "data": {
      "text/plain": [
       "[['Food and Drink', 'Restaurants'],\n",
       " ['Payment'],\n",
       " ['Food and Drink', 'Restaurants'],\n",
       " ['Shops', 'Sporting Goods'],\n",
       " ['Payment', 'Credit Card'],\n",
       " ['Travel', 'Car Service', 'Ride Share'],\n",
       " ['Transfer', 'Debit'],\n",
       " ['Transfer', 'Deposit'],\n",
       " ['Recreation', 'Gyms and Fitness Centers'],\n",
       " ['Travel', 'Airlines and Aviation Services'],\n",
       " ['Food and Drink', 'Restaurants'],\n",
       " ['Food and Drink', 'Restaurants', 'Coffee Shop'],\n",
       " ['Food and Drink', 'Restaurants'],\n",
       " ['Transfer', 'Credit'],\n",
       " ['Travel', 'Airlines and Aviation Services'],\n",
       " ['Travel', 'Car Service', 'Ride Share']]"
      ]
     },
     "execution_count": 10,
     "metadata": {},
     "output_type": "execute_result"
    }
   ],
   "source": [
    "transactions=transaction_response['transactions']\n",
    "category=list(map(lambda t: t['category'],transactions))\n",
    "category"
   ]
  },
  {
   "cell_type": "markdown",
   "metadata": {},
   "source": [
    "### 3. Create a new DataFrame using the following fields from the JSON transaction data: date, name, amount, category. \n",
    "\n",
    "(For categories with more than one label, just use the first category label in the list)"
   ]
  },
  {
   "cell_type": "code",
   "execution_count": 25,
   "metadata": {},
   "outputs": [
    {
     "data": {
      "text/html": [
       "<div>\n",
       "<style scoped>\n",
       "    .dataframe tbody tr th:only-of-type {\n",
       "        vertical-align: middle;\n",
       "    }\n",
       "\n",
       "    .dataframe tbody tr th {\n",
       "        vertical-align: top;\n",
       "    }\n",
       "\n",
       "    .dataframe thead th {\n",
       "        text-align: right;\n",
       "    }\n",
       "</style>\n",
       "<table border=\"1\" class=\"dataframe\">\n",
       "  <thead>\n",
       "    <tr style=\"text-align: right;\">\n",
       "      <th></th>\n",
       "      <th>amount</th>\n",
       "      <th>category</th>\n",
       "      <th>date</th>\n",
       "      <th>name</th>\n",
       "    </tr>\n",
       "  </thead>\n",
       "  <tbody>\n",
       "    <tr>\n",
       "      <td>0</td>\n",
       "      <td>500.00</td>\n",
       "      <td>[Food and Drink, Restaurants]</td>\n",
       "      <td>2019-09-28</td>\n",
       "      <td>Tectra Inc</td>\n",
       "    </tr>\n",
       "    <tr>\n",
       "      <td>1</td>\n",
       "      <td>2078.50</td>\n",
       "      <td>[Payment]</td>\n",
       "      <td>2019-09-27</td>\n",
       "      <td>AUTOMATIC PAYMENT - THANK</td>\n",
       "    </tr>\n",
       "    <tr>\n",
       "      <td>2</td>\n",
       "      <td>500.00</td>\n",
       "      <td>[Food and Drink, Restaurants]</td>\n",
       "      <td>2019-09-27</td>\n",
       "      <td>KFC</td>\n",
       "    </tr>\n",
       "    <tr>\n",
       "      <td>3</td>\n",
       "      <td>500.00</td>\n",
       "      <td>[Shops, Sporting Goods]</td>\n",
       "      <td>2019-09-27</td>\n",
       "      <td>Madison Bicycle Shop</td>\n",
       "    </tr>\n",
       "    <tr>\n",
       "      <td>4</td>\n",
       "      <td>25.00</td>\n",
       "      <td>[Payment, Credit Card]</td>\n",
       "      <td>2019-09-18</td>\n",
       "      <td>CREDIT CARD 3333 PAYMENT *//</td>\n",
       "    </tr>\n",
       "    <tr>\n",
       "      <td>5</td>\n",
       "      <td>5.40</td>\n",
       "      <td>[Travel, Car Service, Ride Share]</td>\n",
       "      <td>2019-09-18</td>\n",
       "      <td>Uber 063015 SF**POOL**</td>\n",
       "    </tr>\n",
       "    <tr>\n",
       "      <td>6</td>\n",
       "      <td>5850.00</td>\n",
       "      <td>[Transfer, Debit]</td>\n",
       "      <td>2019-09-17</td>\n",
       "      <td>ACH Electronic CreditGUSTO PAY 123456</td>\n",
       "    </tr>\n",
       "    <tr>\n",
       "      <td>7</td>\n",
       "      <td>1000.00</td>\n",
       "      <td>[Transfer, Deposit]</td>\n",
       "      <td>2019-09-17</td>\n",
       "      <td>CD DEPOSIT .INITIAL.</td>\n",
       "    </tr>\n",
       "    <tr>\n",
       "      <td>8</td>\n",
       "      <td>78.50</td>\n",
       "      <td>[Recreation, Gyms and Fitness Centers]</td>\n",
       "      <td>2019-09-16</td>\n",
       "      <td>Touchstone Climbing</td>\n",
       "    </tr>\n",
       "    <tr>\n",
       "      <td>9</td>\n",
       "      <td>-500.00</td>\n",
       "      <td>[Travel, Airlines and Aviation Services]</td>\n",
       "      <td>2019-09-16</td>\n",
       "      <td>United Airlines</td>\n",
       "    </tr>\n",
       "    <tr>\n",
       "      <td>10</td>\n",
       "      <td>12.00</td>\n",
       "      <td>[Food and Drink, Restaurants]</td>\n",
       "      <td>2019-09-15</td>\n",
       "      <td>McDonald's</td>\n",
       "    </tr>\n",
       "    <tr>\n",
       "      <td>11</td>\n",
       "      <td>4.33</td>\n",
       "      <td>[Food and Drink, Restaurants, Coffee Shop]</td>\n",
       "      <td>2019-09-15</td>\n",
       "      <td>Starbucks</td>\n",
       "    </tr>\n",
       "    <tr>\n",
       "      <td>12</td>\n",
       "      <td>89.40</td>\n",
       "      <td>[Food and Drink, Restaurants]</td>\n",
       "      <td>2019-09-14</td>\n",
       "      <td>SparkFun</td>\n",
       "    </tr>\n",
       "    <tr>\n",
       "      <td>13</td>\n",
       "      <td>-4.22</td>\n",
       "      <td>[Transfer, Credit]</td>\n",
       "      <td>2019-09-13</td>\n",
       "      <td>INTRST PYMNT</td>\n",
       "    </tr>\n",
       "    <tr>\n",
       "      <td>14</td>\n",
       "      <td>500.00</td>\n",
       "      <td>[Travel, Airlines and Aviation Services]</td>\n",
       "      <td>2019-09-03</td>\n",
       "      <td>United Airlines</td>\n",
       "    </tr>\n",
       "    <tr>\n",
       "      <td>15</td>\n",
       "      <td>6.33</td>\n",
       "      <td>[Travel, Car Service, Ride Share]</td>\n",
       "      <td>2019-09-01</td>\n",
       "      <td>Uber 072515 SF**POOL**</td>\n",
       "    </tr>\n",
       "  </tbody>\n",
       "</table>\n",
       "</div>"
      ],
      "text/plain": [
       "     amount                                    category        date  \\\n",
       "0    500.00               [Food and Drink, Restaurants]  2019-09-28   \n",
       "1   2078.50                                   [Payment]  2019-09-27   \n",
       "2    500.00               [Food and Drink, Restaurants]  2019-09-27   \n",
       "3    500.00                     [Shops, Sporting Goods]  2019-09-27   \n",
       "4     25.00                      [Payment, Credit Card]  2019-09-18   \n",
       "5      5.40           [Travel, Car Service, Ride Share]  2019-09-18   \n",
       "6   5850.00                           [Transfer, Debit]  2019-09-17   \n",
       "7   1000.00                         [Transfer, Deposit]  2019-09-17   \n",
       "8     78.50      [Recreation, Gyms and Fitness Centers]  2019-09-16   \n",
       "9   -500.00    [Travel, Airlines and Aviation Services]  2019-09-16   \n",
       "10    12.00               [Food and Drink, Restaurants]  2019-09-15   \n",
       "11     4.33  [Food and Drink, Restaurants, Coffee Shop]  2019-09-15   \n",
       "12    89.40               [Food and Drink, Restaurants]  2019-09-14   \n",
       "13    -4.22                          [Transfer, Credit]  2019-09-13   \n",
       "14   500.00    [Travel, Airlines and Aviation Services]  2019-09-03   \n",
       "15     6.33           [Travel, Car Service, Ride Share]  2019-09-01   \n",
       "\n",
       "                                     name  \n",
       "0                              Tectra Inc  \n",
       "1               AUTOMATIC PAYMENT - THANK  \n",
       "2                                     KFC  \n",
       "3                    Madison Bicycle Shop  \n",
       "4            CREDIT CARD 3333 PAYMENT *//  \n",
       "5                  Uber 063015 SF**POOL**  \n",
       "6   ACH Electronic CreditGUSTO PAY 123456  \n",
       "7                    CD DEPOSIT .INITIAL.  \n",
       "8                     Touchstone Climbing  \n",
       "9                         United Airlines  \n",
       "10                             McDonald's  \n",
       "11                              Starbucks  \n",
       "12                               SparkFun  \n",
       "13                           INTRST PYMNT  \n",
       "14                        United Airlines  \n",
       "15                 Uber 072515 SF**POOL**  "
      ]
     },
     "execution_count": 25,
     "metadata": {},
     "output_type": "execute_result"
    }
   ],
   "source": [
    "custom_cols=['date','name','amount','category']\n",
    "cust_data=create_dataframe(custom_cols,transactions)\n",
    "cust_data"
   ]
  },
  {
   "cell_type": "markdown",
   "metadata": {},
   "source": [
    "### 4. Convert the data types to the appropriate types \n",
    "\n",
    "(i.e. datetimeindex for the date and float for the amount)"
   ]
  },
  {
   "cell_type": "code",
   "execution_count": 12,
   "metadata": {},
   "outputs": [],
   "source": [
    "# YOUR CODE HERE"
   ]
  },
  {
   "cell_type": "markdown",
   "metadata": {},
   "source": [
    "---"
   ]
  },
  {
   "cell_type": "markdown",
   "metadata": {},
   "source": [
    "# Income Analysis with Plaid\n",
    "\n",
    "In this section, you will use the Plaid Sandbox to complete the following:\n",
    "1. Determine the previous year's gross income and print the results\n",
    "2. Determine the current monthly income and print the results\n",
    "3. Determine the projected yearly income and print the results"
   ]
  },
  {
   "cell_type": "code",
   "execution_count": 13,
   "metadata": {},
   "outputs": [],
   "source": [
    "# YOUR CODE HERE"
   ]
  },
  {
   "cell_type": "markdown",
   "metadata": {},
   "source": [
    "---"
   ]
  },
  {
   "cell_type": "markdown",
   "metadata": {},
   "source": [
    "# Budget Analysis\n",
    "In this section, you will use the transactions DataFrame to analyze the customer's budget\n",
    "\n",
    "1. Calculate the total spending per category and print the results (Hint: groupby or count transactions per category)\n",
    "2. Generate a bar chart with the number of transactions for each category \n",
    "3. Calulate the expenses per month\n",
    "4. Plot the total expenses per month"
   ]
  },
  {
   "cell_type": "markdown",
   "metadata": {},
   "source": [
    "### Calculate the expenses per category"
   ]
  },
  {
   "cell_type": "code",
   "execution_count": 14,
   "metadata": {},
   "outputs": [],
   "source": [
    "# YOUR CODE HERE"
   ]
  },
  {
   "cell_type": "markdown",
   "metadata": {},
   "source": [
    "### Calculate the expenses per month"
   ]
  },
  {
   "cell_type": "code",
   "execution_count": 15,
   "metadata": {},
   "outputs": [],
   "source": [
    "# YOUR CODE HERE"
   ]
  }
 ],
 "metadata": {
  "kernel_info": {
   "name": "dev"
  },
  "kernelspec": {
   "display_name": "Python 3",
   "language": "python",
   "name": "python3"
  },
  "language_info": {
   "codemirror_mode": {
    "name": "ipython",
    "version": 3
   },
   "file_extension": ".py",
   "mimetype": "text/x-python",
   "name": "python",
   "nbconvert_exporter": "python",
   "pygments_lexer": "ipython3",
   "version": "3.7.3"
  },
  "nteract": {
   "version": "0.12.3"
  }
 },
 "nbformat": 4,
 "nbformat_minor": 4
}
